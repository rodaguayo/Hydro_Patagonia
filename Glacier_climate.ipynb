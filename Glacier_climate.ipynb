{
 "cells": [
  {
   "cell_type": "markdown",
   "id": "4bc6ce84-95d4-448e-a489-dbe3c4e9cb19",
   "metadata": {},
   "source": [
    "# Climate for each glacier"
   ]
  },
  {
   "cell_type": "code",
   "execution_count": null,
   "id": "1dcf4865-6547-405c-9293-8e169f3cf18e",
   "metadata": {
    "tags": []
   },
   "outputs": [],
   "source": [
    "# basic\n",
    "from tqdm.notebook import tqdm\n",
    "import pandas as pd\n",
    "import os\n",
    "\n",
    "# spatial\n",
    "import geopandas as gpd\n",
    "import xarray as xr\n",
    "import xesmf as xe\n",
    "import regionmask"
   ]
  },
  {
   "cell_type": "markdown",
   "id": "08f478c4-caa6-40b1-a784-b5ce5ea31d5a",
   "metadata": {},
   "source": [
    "## 1. Baseline climate"
   ]
  },
  {
   "cell_type": "code",
   "execution_count": null,
   "id": "df4609e3-68f1-4f4c-99aa-de6e00797e0f",
   "metadata": {
    "tags": []
   },
   "outputs": [],
   "source": [
    "os.chdir('/home/rooda/Dropbox/Patagonia/')\n",
    "period = slice(\"1980-01-01\", \"2020-12-31\")"
   ]
  },
  {
   "cell_type": "code",
   "execution_count": null,
   "id": "52e48b3d-31d2-43de-8cb5-0fa6e5364aea",
   "metadata": {
    "tags": []
   },
   "outputs": [],
   "source": [
    "# template and source files file\n",
    "example    = xr.open_dataset(\"/home/rooda/Dropbox/Coding/OGGM/example_nc.nc\")\n",
    "dem        = xr.open_dataset(\"GIS South/dem_patagonia005.tif\").rename({'y':'lat', 'x':'lon', 'band_data':'hgt'})\n",
    "dem        = dem.sel(band=1, drop=True).drop(\"spatial_ref\").fillna(0)\n",
    "\n",
    "# PMET v1.1\n",
    "rename_dic = {'latitude':'lat', 'longitude':'lon'}\n",
    "pp_pmet    = xr.open_dataset(\"Data/Precipitation/PP_PMETsim_1980_2020_v10m.nc\", chunks = \"auto\").sel(time = period)\n",
    "t2m_pmet   = xr.open_dataset(\"Data/Temperature/Tavg_PMETsim_1980_2020_v10m.nc\", chunks = \"auto\").sel(time = period)"
   ]
  },
  {
   "cell_type": "code",
   "execution_count": null,
   "id": "92b95dd9-dfa3-4cca-b223-4a97c9161623",
   "metadata": {
    "tags": []
   },
   "outputs": [],
   "source": [
    "# actual prepro\n",
    "regridder  = xe.Regridder(dem, pp_pmet, \"bilinear\")\n",
    "dem        = regridder(dem)\n",
    "t2m_pmet   = regridder(t2m_pmet) # this should be fixed in PMET v1.2\n",
    "\n",
    "pmet   = xr.merge([pp_pmet,  t2m_pmet, dem]).rename({'pp':'prcp', 't2m':'temp'})\n",
    "pmet = pmet.rename(rename_dic)\n",
    "\n",
    "pmet.prcp.attrs['units']  = \"mm\"\n",
    "pmet.temp.attrs['units']  = \"degc\"\n",
    "pmet.hgt.attrs['units']   = \"m\"\n",
    "\n",
    "# glacier mask (we dont need to downscale the complete area)\n",
    "rgi = gpd.read_file(\"GIS South/Glaciers/RGI7_Hydro.shp\")[[\"geometry\"]]\n",
    "rgi = rgi.buffer(0.20) \n",
    "\n",
    "mask_pmet = regionmask.mask_geopandas(rgi, pmet)   >= 0\n",
    "pmet   = pmet.where(mask_pmet,     drop = True)\n",
    "\n",
    "pmet.to_netcdf(\"/home/rooda/Hydro_results/PMETsim_historical_OGGM.nc\")"
   ]
  },
  {
   "cell_type": "markdown",
   "id": "873277b8-6d01-4cd5-b149-958691230b10",
   "metadata": {},
   "source": [
    "## 2. Future climate"
   ]
  },
  {
   "cell_type": "code",
   "execution_count": null,
   "id": "8233e9e8-14b9-48f6-945d-a9b366e74a09",
   "metadata": {
    "tags": []
   },
   "outputs": [],
   "source": [
    "os.chdir('/home/rooda/Hydro_results/')\n",
    "period = slice(\"1921-01-01\", \"2099-12-31\")\n",
    "\n",
    "# 8 GCMs and 2 SSPs per GCM\n",
    "gcm_list  = [\"CMCC-ESM2\", \"GFDL-ESM4\", \"INM-CM5-0\", \"KACE-1-0-G\", \"MIROC6\", \"MPI-ESM1-2-HR\", \"MPI-ESM1-2-LR\", \"MRI-ESM2-0\"] \n",
    "ssp_list  = [\"ssp126\", \"ssp585\"] \n",
    "\n",
    "chunks_dict = {\"lon\": 50, \"lat\": 50, \"time\": -1}\n",
    "encode_t2m  = {'tas': {'dtype': 'int16', 'scale_factor': 0.01, '_FillValue': -9999}}\n",
    "encode_pp   = {\"pr\":  {\"zlib\": True, \"complevel\": 1, \"dtype\": \"float32\"}}"
   ]
  },
  {
   "cell_type": "code",
   "execution_count": null,
   "id": "ce3bce3c-fb51-424f-9113-33d8b7fb6ea5",
   "metadata": {
    "tags": []
   },
   "outputs": [],
   "source": [
    "for gcm in tqdm(gcm_list):    \n",
    "    for ssp in tqdm(ssp_list, leave = False):\n",
    "        \n",
    "        gcm_pp  = xr.open_mfdataset(\"future_corrected/PP_\" + gcm + \"_\" + ssp + \"*.nc\", chunks = \"auto\").pr\n",
    "        gcm_pp.attrs['units']   = \"mm month-1\"\n",
    "        gcm_pp = gcm_pp.resample(time = \"MS\").sum()\n",
    "        gcm_pp = gcm_pp.chunk(\"auto\").rename(\"pr\")\n",
    "        gcm_pp = core.units.convert_units_to(gcm_pp, target = 'kg m-2 s-1', context = \"hydro\")\n",
    "        \n",
    "        gcm_t2m = xr.open_mfdataset(\"future_corrected/T2M_\" + gcm + \"_\" + ssp + \"*.nc\", chunks = \"auto\").t2m\n",
    "        gcm_t2m.attrs['units']   = \"C\"\n",
    "        gcm_t2m = gcm_t2m.resample(time = \"MS\").mean()\n",
    "        gcm_t2m = gcm_t2m.chunk(\"auto\").rename(\"tas\")\n",
    "        gcm_t2m = core.units.convert_units_to(gcm_t2m, target = 'K')\n",
    "\n",
    "        # save files\n",
    "        gcm_pp.to_netcdf(\"/home/rooda/Hydro_results/future_glaciers/PP_\" + gcm + \"_\" + ssp + \".nc\", encoding = encode_pp)\n",
    "        gcm_t2m.to_netcdf(\"/home/rooda/Hydro_results/future_glaciers/T2M_\" + gcm + \"_\" + ssp + \".nc\", encoding = encode_t2m)"
   ]
  }
 ],
 "metadata": {
  "kernelspec": {
   "display_name": "Python 3 (ipykernel)",
   "language": "python",
   "name": "python3"
  },
  "language_info": {
   "codemirror_mode": {
    "name": "ipython",
    "version": 3
   },
   "file_extension": ".py",
   "mimetype": "text/x-python",
   "name": "python",
   "nbconvert_exporter": "python",
   "pygments_lexer": "ipython3",
   "version": "3.10.10"
  }
 },
 "nbformat": 4,
 "nbformat_minor": 5
}
