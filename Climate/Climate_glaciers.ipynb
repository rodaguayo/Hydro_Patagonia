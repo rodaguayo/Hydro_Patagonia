{
 "cells": [
  {
   "cell_type": "markdown",
   "id": "4bc6ce84-95d4-448e-a489-dbe3c4e9cb19",
   "metadata": {},
   "source": [
    "# Historical climate for all glaciers (in OGGM format)"
   ]
  },
  {
   "cell_type": "code",
   "execution_count": null,
   "id": "1dcf4865-6547-405c-9293-8e169f3cf18e",
   "metadata": {
    "tags": []
   },
   "outputs": [],
   "source": [
    "# basic\n",
    "from tqdm.notebook import tqdm\n",
    "import pandas as pd\n",
    "import os\n",
    "\n",
    "# spatial\n",
    "import geopandas as gpd\n",
    "import xarray as xr\n",
    "import xesmf as xe\n",
    "\n",
    "# xclim\n",
    "from xclim import core"
   ]
  },
  {
   "cell_type": "code",
   "execution_count": null,
   "id": "df4609e3-68f1-4f4c-99aa-de6e00797e0f",
   "metadata": {
    "tags": []
   },
   "outputs": [],
   "source": [
    "os.chdir('/home/rooda/OneDrive/Patagonia/')\n",
    "period = slice(\"1980-01-01\", \"2020-12-31\")"
   ]
  },
  {
   "cell_type": "code",
   "execution_count": null,
   "id": "52e48b3d-31d2-43de-8cb5-0fa6e5364aea",
   "metadata": {
    "tags": []
   },
   "outputs": [],
   "source": [
    "# template and source files file\n",
    "example    = xr.open_dataset(\"/home/rooda/OneDrive/Coding/OGGM/example_nc.nc\")\n",
    "dem        = xr.open_dataset(\"GIS South/dem_patagonia005.tif\").rename({'y':'latitude', 'x':'longitude', 'band_data':'hgt'})\n",
    "dem        = dem.sel(band=1, drop=True).drop(\"spatial_ref\").fillna(0)\n",
    "\n",
    "# PMET v1.1\n",
    "pp_pmet    = xr.open_dataset(\"Data/Zenodo/v11/PP_PMETsim_1980_2020_v11d.nc\",   chunks = chunks_dict).sel(time = period)\n",
    "t2m_pmet   = xr.open_dataset(\"Data/Zenodo/v11/Tavg_PMETsim_1980_2020_v11d.nc\", chunks = chunks_dict).sel(time = period)"
   ]
  },
  {
   "cell_type": "code",
   "execution_count": null,
   "id": "92b95dd9-dfa3-4cca-b223-4a97c9161623",
   "metadata": {
    "scrolled": true,
    "tags": []
   },
   "outputs": [],
   "source": [
    "# actual prepro\n",
    "regridder  = xe.Regridder(dem, pp_pmet, \"nearest_s2d\")\n",
    "dem        = regridder(dem)\n",
    "t2m_pmet   = regridder(t2m_pmet)\n",
    "\n",
    "pmet   = xr.merge([pp_pmet,  t2m_pmet, dem]).rename({'pp':'prcp', 't2m':'temp'})\n",
    "\n",
    "pmet.prcp.attrs['units']  = \"mm\"\n",
    "pmet.temp.attrs['units']  = \"degc\"\n",
    "pmet.hgt.attrs['units']   = \"m\"\n",
    "\n",
    "pmet   = pmet.where(mask_pmet, drop = True)\n",
    "\n",
    "pmet.to_netcdf(\"/home/rooda/Hydro_results/PMETsim_historical_OGGM.nc\")"
   ]
  }
 ],
 "metadata": {
  "kernelspec": {
   "display_name": "Python 3 (ipykernel)",
   "language": "python",
   "name": "python3"
  },
  "language_info": {
   "codemirror_mode": {
    "name": "ipython",
    "version": 3
   },
   "file_extension": ".py",
   "mimetype": "text/x-python",
   "name": "python",
   "nbconvert_exporter": "python",
   "pygments_lexer": "ipython3",
   "version": "3.11.9"
  }
 },
 "nbformat": 4,
 "nbformat_minor": 5
}
