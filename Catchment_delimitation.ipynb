{
 "cells": [
  {
   "cell_type": "markdown",
   "id": "6164eb13-4f9e-4c51-bb1e-c7f0f5a37cfc",
   "metadata": {},
   "source": [
    "# Code for basin delimitation"
   ]
  },
  {
   "cell_type": "markdown",
   "id": "9ed41c79-2809-419f-9764-3bff7af33039",
   "metadata": {},
   "source": [
    "Developed by Rodrigo Aguayo (2020-2023)"
   ]
  },
  {
   "cell_type": "code",
   "execution_count": null,
   "id": "dda316e1-864f-4b13-871e-80619d22614b",
   "metadata": {},
   "outputs": [],
   "source": [
    "# grass\n",
    "import grass.jupyter as gj\n",
    "import grass.script as gs\n",
    "from grass.pygrass.modules.grid import GridModule\n",
    "\n",
    "# spatial\n",
    "from geocube.vector import vectorize\n",
    "import rioxarray as rioxr\n",
    "import geopandas as gpd\n",
    "import regionmask\n",
    "\n",
    "# basic\n",
    "import pandas as pd\n",
    "import numpy as np\n",
    "import os\n",
    "\n",
    "os.chdir('/home/rooda/Dropbox/Patagonia') "
   ]
  },
  {
   "cell_type": "markdown",
   "id": "ea3a2407-ff2d-4dff-924a-d98010f6867a",
   "metadata": {},
   "source": [
    "## Elevation"
   ]
  },
  {
   "cell_type": "code",
   "execution_count": null,
   "id": "74879ae4-7b9e-4873-b136-e2305f939afb",
   "metadata": {},
   "outputs": [],
   "source": [
    "# import raster NASADEM 30 m\n",
    "gs.run_command(\"r.import\", input=\"GIS South/dem_patagonia3f_subset.tif\", output=\"elevation_lr\", flags = \"o\", overwrite=True)\n",
    "gs.run_command(\"g.region\", raster=\"elevation_lr\", flags=\"p\")"
   ]
  },
  {
   "cell_type": "code",
   "execution_count": null,
   "id": "2bace2d5-534d-4643-bdf8-4e4aaed010e9",
   "metadata": {},
   "outputs": [],
   "source": [
    "# sink removal using Lindsay et al. (2005) [MULTICORE]\n",
    "grid = GridModule(\"r.hydrodem\", input=\"elevation_lr\", \n",
    "                  output = \"elevation_filled\",\n",
    "                  overwrite = True, processes = 20)\n",
    "grid.run()"
   ]
  },
  {
   "cell_type": "markdown",
   "id": "91fb92c5-f16c-49c0-964b-db8b7ecfea4a",
   "metadata": {},
   "source": [
    "## Delimitate all basins "
   ]
  },
  {
   "cell_type": "code",
   "execution_count": null,
   "id": "9d8e930c-d32e-4d2b-bc38-df9071809ec4",
   "metadata": {},
   "outputs": [],
   "source": [
    "# calculate accumulation raster map and drainage direction raster map using MFD: multiple flow direction\n",
    "gs.run_command(\"r.stream.extract\", \n",
    "                  elevation = \"elevation_filled\",  \n",
    "                  threshold = 200,\n",
    "                  direction = \"fdir\", \n",
    "                  stream_raster = \"stream_r\",\n",
    "                  overwrite = True)"
   ]
  },
  {
   "cell_type": "code",
   "execution_count": null,
   "id": "a63fa6b6-1dab-4c60-aedc-e73555cfa031",
   "metadata": {},
   "outputs": [],
   "source": [
    "gs.run_command(\"r.stream.basins\", \n",
    "               direction=\"fdir\", \n",
    "               stream_rast = \"stream_r\", \n",
    "               basins=\"basins\", \n",
    "               flags=\"l\", \n",
    "               overwrite = True)\n",
    "\n",
    "# save\n",
    "gs.run_command('r.out.gdal', input=\"basins\", output= 'GIS South/Basins_Patagonia_all.tif', format='GTiff', overwrite=True)  "
   ]
  },
  {
   "cell_type": "code",
   "execution_count": null,
   "id": "ccd983a9-c4e9-452f-97ff-93e40ba5bb87",
   "metadata": {},
   "outputs": [],
   "source": [
    "# from raster to shp\n",
    "data = rioxr.open_rasterio(\"GIS South/Basins_Patagonia_all.tif\")\n",
    "data.name = \"gauge_id\"\n",
    "basins = vectorize(data)\n",
    "basins = basins.set_crs(4326)\n",
    "basins = basins.dissolve(by='gauge_id')\n",
    "basins = basins.reset_index()\n",
    "\n",
    "basins[\"total_area\"]  = basins.to_crs(32719).area / 1e6\n",
    "basins[\"lat\"]         = basins.representative_point().y\n",
    "basins[\"lon\"]         = basins.representative_point().x"
   ]
  },
  {
   "cell_type": "code",
   "execution_count": null,
   "id": "927ac9cc-41cb-4e8e-a56f-4dbaa1941d87",
   "metadata": {
    "tags": []
   },
   "outputs": [],
   "source": [
    "# only study area\n",
    "basins = basins[basins.lat  < -41.0]\n",
    "basins = basins[basins.lon  < -68.0]\n",
    "basins = basins[~((basins.lon > -71.4) & (basins.lat > -45.0) & (basins.lat < -40))]\n",
    "basins = basins[~((basins.lon > -71.9) & (basins.lat > -41.3) & (basins.lat < -40.9))]\n",
    "basins = basins[~((basins.lon > -72) & (basins.lat > -50.0) & (basins.lat < -44.7))]\n",
    "basins = basins[~((basins.lon > -72.4) & (basins.lat > -49) & (basins.lat < -46))]\n",
    "basins = basins[~((basins.lon > -72) & (basins.lat > -52.2) & (basins.lat < -50.4))]\n",
    "basins = basins[~((basins.lon > -70.8) & (basins.lat > -51) & (basins.lat < -49))] \n",
    "basins = basins[~((basins.lon > -71) & (basins.lat > -52.4) & (basins.lat < -51))] \n",
    "basins = basins[~((basins.lon > -69.4) & (basins.lat > -54.2) & (basins.lat < -51))] \n",
    "basins = basins[~((basins.lon > -69.5) & (basins.lat > -54) & (basins.lat < -52))] \n",
    "basins = basins[~((basins.lon > -68.8) & (basins.lat > -54.5) & (basins.lat < -53))] \n",
    "\n",
    "# *small islands outside pmet coverage were manually removed in QGIS (n < 10)\n",
    "\n",
    "# area greater than 4km2\n",
    "basins = basins[basins.total_area > 4]"
   ]
  },
  {
   "cell_type": "code",
   "execution_count": null,
   "id": "0646dce4-fb62-42eb-8b11-5bbc2f7d37e9",
   "metadata": {
    "tags": []
   },
   "outputs": [],
   "source": [
    "# ID for each basin\n",
    "names = np.linspace(start=1, stop=len(basins), num = len(basins), dtype = \"int16\").tolist()\n",
    "names = [str(item).zfill(8) for item in names]\n",
    "names = [\"Y\" + str(item) for item in names]\n",
    "basins[\"gauge_id\"] = names\n",
    "\n",
    "# ID for each hydro zone\n",
    "basins[\"ID_Zone\"] = np.nan\n",
    "basins.loc[basins.lat > -43.4, \"ID_Zone\"] = 1\n",
    "basins.loc[(basins.lat < -43.4) & (basins.lat > -46), \"ID_Zone\"] = 2\n",
    "basins.loc[(basins.lat < -46)   & (basins.lat > -47.8) & (basins.lon > -73), \"ID_Zone\"] = 3\n",
    "basins.loc[(basins.lat < -46)   & (basins.lat > -47.8) & (basins.lon < -73), \"ID_Zone\"] = 4\n",
    "basins.loc[(basins.lat < -47.8) & (basins.lat > -49.4), \"ID_Zone\"] = 5\n",
    "basins.loc[(basins.lat < -49.4) & (basins.lat > -50.7), \"ID_Zone\"] = 6\n",
    "basins.loc[(basins.lat < -50.7) & (basins.lat > -52.1), \"ID_Zone\"] = 7\n",
    "basins.loc[(basins.lat < -52.1) & (basins.lat > -54.1), \"ID_Zone\"] = 8\n",
    "basins.loc[basins.lat < -54.1, \"ID_Zone\"] = 9\n",
    "\n",
    "# save file\n",
    "basins.to_file(\"GIS South/Basins_Patagonia_all.shp\")"
   ]
  },
  {
   "cell_type": "markdown",
   "id": "67247e36-300c-4a60-a5fa-5ee1fa19cdae",
   "metadata": {},
   "source": [
    "## Delimitate all basins (outlet)"
   ]
  },
  {
   "cell_type": "code",
   "execution_count": null,
   "id": "e6b3798c-e195-4172-b24f-5cebe80b3738",
   "metadata": {},
   "outputs": [],
   "source": [
    "# save outlet\n",
    "basins = gpd.read_file(\"GIS South/Basins_Patagonia_all.shp\")\n",
    "basins = basins.set_index(\"gauge_id\")\n",
    "dem = rioxr.open_rasterio(\"GIS South/dem_patagonia3f_subset.tif\")\n"
   ]
  },
  {
   "cell_type": "code",
   "execution_count": null,
   "id": "c48bf6a9-2615-4f47-a163-9f63323227e2",
   "metadata": {},
   "outputs": [],
   "source": [
    "# old code in R\n",
    "basins_xy = extract(dem, as.lines(all_basins), xy=TRUE)\n",
    "basins_xy = basins_xy %>% group_by(ID) %>% slice_min(order_by = dem_patagonia3f)\n",
    "basins_xy = aggregate(basins_xy, by = list(basins_xy$ID), FUN = mean) # several options \n",
    "basins_xy = basins_xy[,[\"ID\", \"x\", \"y\"]]\n",
    "\n",
    "basins_xy[\"gauge_id\"] = all_basins.gauge_id \n",
    "basins_xy[\"area_km2\"] = all_basins.total_area\n",
    "\n",
    "basins_xy = vect(basins_xy, geom = c(\"x\", \"y\"), crs=\"epsg:4326\", keepgeom=T)\n",
    "basins_xy.to_file(\"GIS South/Basins_Patagonia_all_mouth.shp\")"
   ]
  }
 ],
 "metadata": {
  "kernelspec": {
   "display_name": "Python 3 (ipykernel)",
   "language": "python",
   "name": "python3"
  },
  "language_info": {
   "codemirror_mode": {
    "name": "ipython",
    "version": 3
   },
   "file_extension": ".py",
   "mimetype": "text/x-python",
   "name": "python",
   "nbconvert_exporter": "python",
   "pygments_lexer": "ipython3",
   "version": "3.10.10"
  }
 },
 "nbformat": 4,
 "nbformat_minor": 5
}
